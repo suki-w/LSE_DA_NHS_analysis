{
 "cells": [
  {
   "cell_type": "markdown",
   "id": "eb92d5a7",
   "metadata": {},
   "source": [
    "### LSE Data Analytics Online Career Accelerator\n",
    "\n",
    "# Course 2: Data Analytics using Python"
   ]
  },
  {
   "cell_type": "markdown",
   "id": "0ea7e113",
   "metadata": {},
   "source": [
    "## Assignment: Diagnostic Analysis using Python\n",
    "\n",
    "You’ll be working with real-world data to address a problem faced by the National Health Service (NHS). The analysis will require you to utilise Python to explore the available data, create visualisations to identify trends, and extract meaningful insights to inform decision-making. "
   ]
  },
  {
   "cell_type": "markdown",
   "id": "bce4b767",
   "metadata": {},
   "source": [
    "### A note for students using this template\n",
    "This Jupyter Notebook is a template you can use to complete the Course 2 assignment: Diagnostic Analysis using Python. \n",
    "\n",
    "Keep in mind: \n",
    "- You are **not required** to use this template to complete the assignment. \n",
    "- If you decide to use this template for your assignment, make a copy of the notebook and save it using the assignment naming convention: **LastName_FirstName_DA201_Assignment_Notebook.ipynb**.\n",
    "- The workflow suggested in this template follows the Assignment Activities throughout the course.\n",
    "- Refer to the guidance on the Assignment Activity pages for specific details. \n",
    "- The markup and comments in this template identify the key elements you need to complete before submitting the assignment.\n",
    "- Make this notebook your own by adding your process notes and rationale using markdown, add links, screenshots, or images to support your analysis, refine or clarify the comments, and change the workflow to suit your process.\n",
    "- All elements should be functional and visible in your Notebook. \n",
    "- Be sure to push your notebook to GitHub after completing each Assignment Activity.\n",
    "\n",
    " > ***Markdown*** Remember to change cell types to `Markdown`. You can review [Markdown basics](https://docs.github.com/en/get-started/writing-on-github/getting-started-with-writing-and-formatting-on-github/basic-writing-and-formatting-syntax) to find out how to add formatted text, links, and images to your notebook."
   ]
  },
  {
   "cell_type": "markdown",
   "id": "ef6d24b2",
   "metadata": {},
   "source": [
    "# "
   ]
  },
  {
   "cell_type": "markdown",
   "id": "0834b036",
   "metadata": {},
   "source": [
    "# Assignment activity 1"
   ]
  },
  {
   "cell_type": "markdown",
   "id": "8b40c558",
   "metadata": {},
   "source": [
    "### Insert proof of your GitHub repository. This can be a link or screenshot showing your repo."
   ]
  },
  {
   "cell_type": "code",
   "execution_count": 1,
   "id": "984dc1db",
   "metadata": {},
   "outputs": [],
   "source": [
    "# My GitHub repository."
   ]
  },
  {
   "cell_type": "markdown",
   "id": "af0f600f",
   "metadata": {},
   "source": [
    "# "
   ]
  },
  {
   "cell_type": "markdown",
   "id": "c010a760",
   "metadata": {},
   "source": [
    "# Assignment activity 2"
   ]
  },
  {
   "cell_type": "markdown",
   "id": "550d4c5b",
   "metadata": {},
   "source": [
    "### Prepare your workstation"
   ]
  },
  {
   "cell_type": "code",
   "execution_count": null,
   "id": "ef565e11",
   "metadata": {},
   "outputs": [],
   "source": [
    "# Import the necessary libraries.\n",
    "import pandas as pd\n",
    "import numpy as np\n",
    "\n",
    "# Optional - Ignore warnings.\n",
    "import warnings\n",
    "warnings.filterwarnings('ignore')"
   ]
  },
  {
   "cell_type": "code",
   "execution_count": null,
   "id": "624d89f2",
   "metadata": {},
   "outputs": [],
   "source": [
    "# Import and sense-check the actual_duration.csv data set as ad.\n",
    "ad = \n",
    "\n",
    "# View the DataFrame.\n"
   ]
  },
  {
   "cell_type": "code",
   "execution_count": null,
   "id": "f694cd9d",
   "metadata": {},
   "outputs": [],
   "source": [
    "# Determine whether there are missing values.\n"
   ]
  },
  {
   "cell_type": "code",
   "execution_count": null,
   "id": "c8fd49b5",
   "metadata": {},
   "outputs": [],
   "source": [
    "# Determine the metadata of the data set.\n"
   ]
  },
  {
   "cell_type": "code",
   "execution_count": null,
   "id": "9fa13562",
   "metadata": {},
   "outputs": [],
   "source": [
    "# Determine the descriptive statistics of the data set.\n"
   ]
  },
  {
   "cell_type": "code",
   "execution_count": null,
   "id": "f2dfbc7b",
   "metadata": {},
   "outputs": [],
   "source": [
    "# Import and sense-check the appointments_regional.csv data set as ar.\n",
    "ar = \n",
    "\n",
    "# View the DataFrame.\n"
   ]
  },
  {
   "cell_type": "code",
   "execution_count": null,
   "id": "255823c3",
   "metadata": {},
   "outputs": [],
   "source": [
    "# Determine whether there are missing values.\n"
   ]
  },
  {
   "cell_type": "code",
   "execution_count": null,
   "id": "1daa3556",
   "metadata": {},
   "outputs": [],
   "source": [
    "# Determine the metadata of the data set.\n"
   ]
  },
  {
   "cell_type": "code",
   "execution_count": null,
   "id": "3cbc4d97",
   "metadata": {},
   "outputs": [],
   "source": [
    "# Determine the descriptive statistics of the data set.\n"
   ]
  },
  {
   "cell_type": "code",
   "execution_count": null,
   "id": "4e30305d",
   "metadata": {},
   "outputs": [],
   "source": [
    "# Import and sense-check the national_categories.xlsx data set as nc.\n",
    "nc = \n",
    "\n",
    "# View the DataFrame.\n"
   ]
  },
  {
   "cell_type": "code",
   "execution_count": null,
   "id": "f5dfc24e",
   "metadata": {},
   "outputs": [],
   "source": [
    "# Determine whether there are missing values.\n"
   ]
  },
  {
   "cell_type": "code",
   "execution_count": null,
   "id": "e7dbbef3",
   "metadata": {},
   "outputs": [],
   "source": [
    "# Determine the metadata of the data set.\n"
   ]
  },
  {
   "cell_type": "code",
   "execution_count": null,
   "id": "b87dfc23",
   "metadata": {},
   "outputs": [],
   "source": [
    "# Determine the descriptive statistics of the data set.\n"
   ]
  },
  {
   "cell_type": "markdown",
   "id": "f86ea066",
   "metadata": {},
   "source": [
    "### Explore the data set"
   ]
  },
  {
   "cell_type": "markdown",
   "id": "333a607a",
   "metadata": {},
   "source": [
    "**Question 1:** How many locations are there in the data set?"
   ]
  },
  {
   "cell_type": "code",
   "execution_count": null,
   "id": "749cdb45",
   "metadata": {},
   "outputs": [],
   "source": [
    "# Determine the number of locations.\n"
   ]
  },
  {
   "cell_type": "markdown",
   "id": "93f0ce86",
   "metadata": {},
   "source": [
    "**Question 2:** What are the five locations with the highest number of records?\n",
    "\n"
   ]
  },
  {
   "cell_type": "code",
   "execution_count": null,
   "id": "9e7c3913",
   "metadata": {},
   "outputs": [],
   "source": [
    "# Determine the top five locations based on record count.\n"
   ]
  },
  {
   "cell_type": "markdown",
   "id": "d75405a5",
   "metadata": {},
   "source": [
    "**Question 3:** How many service settings, context types, national categories, and appointment statuses are there?"
   ]
  },
  {
   "cell_type": "code",
   "execution_count": null,
   "id": "3cc2f7aa",
   "metadata": {},
   "outputs": [],
   "source": [
    "# Determine the number of service settings.\n"
   ]
  },
  {
   "cell_type": "code",
   "execution_count": null,
   "id": "f6790e40",
   "metadata": {},
   "outputs": [],
   "source": [
    "# Determine the number of context types.\n"
   ]
  },
  {
   "cell_type": "code",
   "execution_count": null,
   "id": "ba95bff3",
   "metadata": {},
   "outputs": [],
   "source": [
    "# Determine the number of national categories.\n"
   ]
  },
  {
   "cell_type": "code",
   "execution_count": null,
   "id": "a5633147",
   "metadata": {},
   "outputs": [],
   "source": [
    "# Determine the number of appointment status.\n"
   ]
  },
  {
   "cell_type": "markdown",
   "id": "7c3429c3",
   "metadata": {},
   "source": [
    "# "
   ]
  },
  {
   "cell_type": "markdown",
   "id": "edf661d9",
   "metadata": {},
   "source": [
    "# Assignment activity 3"
   ]
  },
  {
   "cell_type": "markdown",
   "id": "be5393dd",
   "metadata": {},
   "source": [
    "### Continue to explore the data and search for answers to more specific questions posed by the NHS."
   ]
  },
  {
   "cell_type": "markdown",
   "id": "a742e563",
   "metadata": {},
   "source": [
    "**Question 1:** Between what dates were appointments scheduled? "
   ]
  },
  {
   "cell_type": "code",
   "execution_count": null,
   "id": "6d3e53a7",
   "metadata": {},
   "outputs": [],
   "source": [
    "# View the first five rows of appointment_date for the ad DataFrame to determine the date format.\n"
   ]
  },
  {
   "cell_type": "code",
   "execution_count": null,
   "id": "d32fb602",
   "metadata": {},
   "outputs": [],
   "source": [
    "# View the first five rows of appointment_date for the nc DataFrame to determine the date format.\n"
   ]
  },
  {
   "cell_type": "code",
   "execution_count": null,
   "id": "05a60b63",
   "metadata": {},
   "outputs": [],
   "source": [
    "# Change the date format of ad['appointment_date'].\n",
    "\n",
    "\n",
    "# View the DateFrame.\n"
   ]
  },
  {
   "cell_type": "code",
   "execution_count": null,
   "id": "b73db1bf",
   "metadata": {},
   "outputs": [],
   "source": [
    "# Change the date format of ar['appointment_date'].\n",
    "\n",
    "\n",
    "# View the DateFrame.\n"
   ]
  },
  {
   "cell_type": "code",
   "execution_count": null,
   "id": "28e6b2fa",
   "metadata": {},
   "outputs": [],
   "source": [
    "# Determine the minimum and maximum dates in the ad DataFrame.\n",
    "# Use appropriate docstrings.\n"
   ]
  },
  {
   "cell_type": "code",
   "execution_count": null,
   "id": "87072228",
   "metadata": {},
   "outputs": [],
   "source": [
    "# Determine the minimum and maximum dates in the nc DataFrame.\n",
    "# Use appropriate docstrings.\n"
   ]
  },
  {
   "cell_type": "markdown",
   "id": "f41ad664",
   "metadata": {},
   "source": [
    "**Question 2:** Which service setting was the most popular for NHS North West London from 1 January to 1 June 2022?"
   ]
  },
  {
   "cell_type": "code",
   "execution_count": null,
   "id": "b577ca5f",
   "metadata": {},
   "outputs": [],
   "source": [
    "# For each of these service settings, determine the number of records available for the period and the location. \n",
    "\n",
    "\n",
    "# View the output.\n"
   ]
  },
  {
   "cell_type": "markdown",
   "id": "7ac94132",
   "metadata": {},
   "source": [
    "**Question 3:** Which month had the highest number of appointments?"
   ]
  },
  {
   "cell_type": "code",
   "execution_count": null,
   "id": "6084c6d1",
   "metadata": {},
   "outputs": [],
   "source": [
    "# Number of appointments per month == sum of count_of_appointments by month.\n",
    "# Use the groupby() and sort_values() functions.\n"
   ]
  },
  {
   "cell_type": "markdown",
   "id": "b28a49a5",
   "metadata": {},
   "source": [
    "**Question 4:** What was the total number of records per month?"
   ]
  },
  {
   "cell_type": "code",
   "execution_count": null,
   "id": "00668a95",
   "metadata": {},
   "outputs": [],
   "source": [
    "# Total number of records per month.\n"
   ]
  },
  {
   "cell_type": "markdown",
   "id": "7aba0dca",
   "metadata": {},
   "source": [
    "# "
   ]
  },
  {
   "cell_type": "markdown",
   "id": "3a2caa91",
   "metadata": {},
   "source": [
    "# Assignment activity 4"
   ]
  },
  {
   "cell_type": "markdown",
   "id": "946a2948",
   "metadata": {},
   "source": [
    "### Create visualisations and identify possible monthly and seasonal trends in the data."
   ]
  },
  {
   "cell_type": "code",
   "execution_count": null,
   "id": "c833e1ab",
   "metadata": {},
   "outputs": [],
   "source": [
    "# Import the necessary libraries.\n",
    "import seaborn as sns\n",
    "import matplotlib.pyplot as plt\n",
    "\n",
    "# Set figure size.\n",
    "sns.set(rc={'figure.figsize':(15, 12)})\n",
    "\n",
    "# Set the plot style as white.\n",
    "sns.set_style('white')"
   ]
  },
  {
   "cell_type": "markdown",
   "id": "9bb9d65d",
   "metadata": {},
   "source": [
    "### Objective 1\n",
    "Create three visualisations indicating the number of appointments per month for service settings, context types, and national categories."
   ]
  },
  {
   "cell_type": "code",
   "execution_count": null,
   "id": "e1ba886c",
   "metadata": {},
   "outputs": [],
   "source": [
    "# Change the data type of the appointment month to string to allow for easier plotting.\n"
   ]
  },
  {
   "cell_type": "code",
   "execution_count": null,
   "id": "63160f27",
   "metadata": {},
   "outputs": [],
   "source": [
    "# Aggregate on monthly level and determine the sum of records per month.\n",
    "\n",
    "\n",
    "# View output.\n"
   ]
  },
  {
   "cell_type": "markdown",
   "id": "b82916ae",
   "metadata": {},
   "source": [
    "**Service settings:**"
   ]
  },
  {
   "cell_type": "code",
   "execution_count": null,
   "id": "485b51c6",
   "metadata": {},
   "outputs": [],
   "source": [
    "# Plot the appointments over the available date range, and review the service settings for months.\n",
    "# Create a lineplot.\n"
   ]
  },
  {
   "cell_type": "markdown",
   "id": "8145c8d9",
   "metadata": {},
   "source": [
    "**Context types:**"
   ]
  },
  {
   "cell_type": "code",
   "execution_count": null,
   "id": "1f23e5f8",
   "metadata": {},
   "outputs": [],
   "source": [
    "# Create a separate data set that can be used in future weeks. \n",
    "\n",
    "\n",
    "# View output.\n"
   ]
  },
  {
   "cell_type": "code",
   "execution_count": null,
   "id": "ca2aa462",
   "metadata": {},
   "outputs": [],
   "source": [
    "# Plot the appointments over the available date range, and review the context types for months.\n",
    "# Create a lineplot.\n"
   ]
  },
  {
   "cell_type": "markdown",
   "id": "e7d64afe",
   "metadata": {},
   "source": [
    "**National categories:**"
   ]
  },
  {
   "cell_type": "code",
   "execution_count": null,
   "id": "3b22addb",
   "metadata": {},
   "outputs": [],
   "source": [
    "# Create a separate data set that can be used in future weeks. \n",
    "\n",
    "\n",
    "# View output.\n"
   ]
  },
  {
   "cell_type": "code",
   "execution_count": null,
   "id": "6ccc0541",
   "metadata": {},
   "outputs": [],
   "source": [
    "# Plot the appointments over the available date range, and review the national categories for months.\n",
    "# Create a lineplot.\n"
   ]
  },
  {
   "cell_type": "markdown",
   "id": "a8e70f6b",
   "metadata": {},
   "source": [
    "### Objective 2\n",
    "Create four visualisations indicating the number of appointments for service setting per season. The seasons are summer (August 2021), autumn (October 2021), winter (January 2022), and spring (April 2022)."
   ]
  },
  {
   "cell_type": "markdown",
   "id": "9f2e1169",
   "metadata": {},
   "source": [
    "**Summer (August 2021):**"
   ]
  },
  {
   "cell_type": "code",
   "execution_count": null,
   "id": "9a3586e8",
   "metadata": {},
   "outputs": [],
   "source": [
    "# Create a separate data set that can be used in future weeks. \n",
    "\n",
    "\n",
    "# View output.\n"
   ]
  },
  {
   "cell_type": "code",
   "execution_count": null,
   "id": "b7f7857c",
   "metadata": {},
   "outputs": [],
   "source": [
    "# Look at August 2021 in more detail to allow a closer look.\n",
    "# Create a lineplot.\n"
   ]
  },
  {
   "cell_type": "markdown",
   "id": "5d356e45",
   "metadata": {},
   "source": [
    "**Autumn (October 2021):**"
   ]
  },
  {
   "cell_type": "code",
   "execution_count": null,
   "id": "fedd3cb6",
   "metadata": {},
   "outputs": [],
   "source": [
    "# Look at October 2021 in more detail to allow a closer look.\n",
    "# Create a lineplot.\n"
   ]
  },
  {
   "cell_type": "markdown",
   "id": "adf4194a",
   "metadata": {},
   "source": [
    "**Winter (January 2022):**"
   ]
  },
  {
   "cell_type": "code",
   "execution_count": null,
   "id": "ffca2ed1",
   "metadata": {},
   "outputs": [],
   "source": [
    "# Look at January 2022 in more detail to allow a closer look.\n",
    "# Create a lineplot.\n"
   ]
  },
  {
   "cell_type": "markdown",
   "id": "fd411d37",
   "metadata": {},
   "source": [
    "**Spring (April 2022):**"
   ]
  },
  {
   "cell_type": "code",
   "execution_count": null,
   "id": "74f43b1d",
   "metadata": {},
   "outputs": [],
   "source": [
    "# Look at April 2022 in more detail to allow a closer look.\n",
    "# Create a lineplot.\n"
   ]
  },
  {
   "cell_type": "markdown",
   "id": "d70b95c0",
   "metadata": {},
   "source": [
    "# "
   ]
  },
  {
   "cell_type": "markdown",
   "id": "d3513fd2",
   "metadata": {},
   "source": [
    "# Assignment activity 5"
   ]
  },
  {
   "cell_type": "markdown",
   "id": "347b2229",
   "metadata": {},
   "source": [
    "### Analyse tweets from Twitter with hashtags related to healthcare in the UK."
   ]
  },
  {
   "cell_type": "code",
   "execution_count": null,
   "id": "06bc19bb",
   "metadata": {},
   "outputs": [],
   "source": [
    "# Libraries and settings needed for analysis\n",
    "import pandas as pd\n",
    "import seaborn as sns\n",
    "\n",
    "# Set figure size.\n",
    "sns.set(rc={'figure.figsize':(15, 12)})\n",
    "\n",
    "# Set the plot style as white.\n",
    "sns.set_style('white')\n",
    "\n",
    "# Maximum column width to display\n",
    "pd.options.display.max_colwidth = 200"
   ]
  },
  {
   "cell_type": "code",
   "execution_count": null,
   "id": "558dec8e",
   "metadata": {},
   "outputs": [],
   "source": [
    "# Load the data set.\n",
    "\n",
    "\n",
    "# View the DataFrame.\n"
   ]
  },
  {
   "cell_type": "code",
   "execution_count": null,
   "id": "b9592370",
   "metadata": {},
   "outputs": [],
   "source": [
    "# Explore the metadata.\n"
   ]
  },
  {
   "cell_type": "code",
   "execution_count": null,
   "id": "9dfcfd06",
   "metadata": {},
   "outputs": [],
   "source": [
    "# Explore the data set.\n"
   ]
  },
  {
   "cell_type": "code",
   "execution_count": null,
   "id": "e2fd27e3",
   "metadata": {},
   "outputs": [],
   "source": [
    "# Would it be useful to only look at retweeted and favourite tweet messages?\n",
    "# Explain your answer.\n"
   ]
  },
  {
   "cell_type": "code",
   "execution_count": null,
   "id": "bb667e2f",
   "metadata": {},
   "outputs": [],
   "source": [
    "# Create a new DataFrame containing only the text.\n",
    "\n",
    "\n",
    "# View the DataFrame.\n"
   ]
  },
  {
   "cell_type": "code",
   "execution_count": null,
   "id": "ce3211b3",
   "metadata": {},
   "outputs": [],
   "source": [
    "# Loop through the messages, and create a list of values containing the # symbol.\n"
   ]
  },
  {
   "cell_type": "code",
   "execution_count": null,
   "id": "111ee38c",
   "metadata": {},
   "outputs": [],
   "source": [
    "# Display the first 30 records.\n"
   ]
  },
  {
   "cell_type": "code",
   "execution_count": null,
   "id": "3127ca56",
   "metadata": {},
   "outputs": [],
   "source": [
    "# Convert the series to a DataFrame in preparation for visualisation.\n",
    "\n",
    "\n",
    "# Rename the columns.\n"
   ]
  },
  {
   "cell_type": "code",
   "execution_count": null,
   "id": "0c7edd19",
   "metadata": {},
   "outputs": [],
   "source": [
    "# Fix the count datatype.\n",
    "\n",
    "\n",
    "# View the result.\n"
   ]
  },
  {
   "cell_type": "code",
   "execution_count": null,
   "id": "1e03f41a",
   "metadata": {},
   "outputs": [],
   "source": [
    "# Display records where the count is larger than 10.\n"
   ]
  },
  {
   "cell_type": "code",
   "execution_count": null,
   "id": "deb872d1",
   "metadata": {},
   "outputs": [],
   "source": [
    "# Create a Seaborn barplot indicating records with a count >10 records.\n"
   ]
  },
  {
   "cell_type": "code",
   "execution_count": null,
   "id": "7174f163",
   "metadata": {},
   "outputs": [],
   "source": [
    "# Create the plot.\n",
    "\n",
    "\n",
    "# View the barplot.\n"
   ]
  },
  {
   "cell_type": "markdown",
   "id": "5534d8ff",
   "metadata": {},
   "source": [
    "# "
   ]
  },
  {
   "cell_type": "markdown",
   "id": "c04eb259",
   "metadata": {},
   "source": [
    "# Assignment activity 6"
   ]
  },
  {
   "cell_type": "markdown",
   "id": "9579ccd5",
   "metadata": {},
   "source": [
    "### Investigate the main cencerns posed by the NHS. "
   ]
  },
  {
   "cell_type": "code",
   "execution_count": null,
   "id": "9e21e577",
   "metadata": {},
   "outputs": [],
   "source": [
    "# Prepare your workstation.\n",
    "# Load the appointments_regional.csv file.\n",
    "\n",
    "\n",
    "# View the DataFrame.\n"
   ]
  },
  {
   "cell_type": "code",
   "execution_count": null,
   "id": "580ed8c0",
   "metadata": {},
   "outputs": [],
   "source": [
    "# Print the min and max dates.\n"
   ]
  },
  {
   "cell_type": "code",
   "execution_count": null,
   "id": "86bef592",
   "metadata": {},
   "outputs": [],
   "source": [
    "# Filter the data set to only look at data from 2021-08 onwards.\n"
   ]
  },
  {
   "cell_type": "markdown",
   "id": "d6e4b4d8",
   "metadata": {},
   "source": [
    "**Question 1:** Should the NHS start looking at increasing staff levels? "
   ]
  },
  {
   "cell_type": "code",
   "execution_count": null,
   "id": "00805db8",
   "metadata": {},
   "outputs": [],
   "source": [
    "# Create an aggregated data set to review the different features.\n",
    "\n",
    "\n",
    "# View the DataFrame.\n"
   ]
  },
  {
   "cell_type": "code",
   "execution_count": null,
   "id": "d55c0532",
   "metadata": {},
   "outputs": [],
   "source": [
    "# Determine the total number of appointments per month.\n",
    "\n",
    "\n",
    "# Add a new column to indicate the average utilisation of services.\n",
    "# Monthly aggregate / 30 to get to a daily value.\n",
    "\n",
    "\n",
    "# View the DataFrame.\n"
   ]
  },
  {
   "cell_type": "code",
   "execution_count": null,
   "id": "76d9e2c2",
   "metadata": {},
   "outputs": [],
   "source": [
    "# Plot sum of count of monthly visits.\n",
    "# Convert the appointment_month to string data type for ease of visualisation.\n",
    "\n",
    "\n",
    "# Create a lineplot with Seaborn.\n"
   ]
  },
  {
   "cell_type": "code",
   "execution_count": null,
   "id": "e47e13f4",
   "metadata": {},
   "outputs": [],
   "source": [
    "# Plot monthly capacity utilisation.\n",
    "\n",
    "\n",
    "# Create a lineplot.\n"
   ]
  },
  {
   "cell_type": "markdown",
   "id": "eb893b06",
   "metadata": {},
   "source": [
    "**Question 2:** How do the healthcare professional types differ over time?"
   ]
  },
  {
   "cell_type": "code",
   "execution_count": null,
   "id": "4179ad07",
   "metadata": {},
   "outputs": [],
   "source": [
    "# Create a line plot to answer the question.\n"
   ]
  },
  {
   "cell_type": "markdown",
   "id": "04d7214b",
   "metadata": {},
   "source": [
    "**Question 3:** Are there significant changes in whether or not visits are attended?"
   ]
  },
  {
   "cell_type": "code",
   "execution_count": null,
   "id": "e04c1fea",
   "metadata": {},
   "outputs": [],
   "source": [
    "# Create a line plot to answer the question.\n"
   ]
  },
  {
   "cell_type": "markdown",
   "id": "7830f29e",
   "metadata": {},
   "source": [
    "**Question 4:** Are there changes in terms of appointment type and the busiest months?"
   ]
  },
  {
   "cell_type": "code",
   "execution_count": null,
   "id": "8b0e203c",
   "metadata": {},
   "outputs": [],
   "source": [
    "# Create a line plot to answer the question.\n"
   ]
  },
  {
   "cell_type": "markdown",
   "id": "56b47fa9",
   "metadata": {},
   "source": [
    "**Question 5:** Are there any trends in time between booking an appointment?"
   ]
  },
  {
   "cell_type": "code",
   "execution_count": null,
   "id": "8197701c",
   "metadata": {},
   "outputs": [],
   "source": [
    "# Create a line plot to answer the question.\n"
   ]
  },
  {
   "cell_type": "markdown",
   "id": "1047943e",
   "metadata": {},
   "source": [
    "**Question 6:** How do the spread of service settings compare?"
   ]
  },
  {
   "cell_type": "code",
   "execution_count": null,
   "id": "b3b6f791",
   "metadata": {},
   "outputs": [],
   "source": [
    "# Let's go back to the national category DataFrame you created in an earlier assignment activity.\n"
   ]
  },
  {
   "cell_type": "code",
   "execution_count": null,
   "id": "85fbdb42",
   "metadata": {},
   "outputs": [],
   "source": [
    "# Create a new DataFrame consisting of the month of appointment and the number of appointments.\n",
    "\n",
    "# View the DataFrame.\n"
   ]
  },
  {
   "cell_type": "code",
   "execution_count": 1,
   "id": "8b524499",
   "metadata": {},
   "outputs": [],
   "source": [
    "# Create a boxplot to investigate spread of service settings.\n"
   ]
  },
  {
   "cell_type": "code",
   "execution_count": null,
   "id": "c8c2c69c",
   "metadata": {},
   "outputs": [],
   "source": [
    "# Create a boxplot to investigate the service settings without GP.\n"
   ]
  },
  {
   "cell_type": "markdown",
   "id": "f3521285",
   "metadata": {},
   "source": [
    "# "
   ]
  },
  {
   "cell_type": "markdown",
   "id": "fdd46686",
   "metadata": {},
   "source": [
    "### Provide a summary of your findings and recommendations based on the analysis."
   ]
  },
  {
   "cell_type": "markdown",
   "id": "afb38a10",
   "metadata": {},
   "source": [
    "> Double click to insert your summary."
   ]
  },
  {
   "cell_type": "code",
   "execution_count": null,
   "id": "4ee5f149",
   "metadata": {},
   "outputs": [],
   "source": []
  }
 ],
 "metadata": {
  "kernelspec": {
   "display_name": "Python 3 (ipykernel)",
   "language": "python",
   "name": "python3"
  },
  "language_info": {
   "codemirror_mode": {
    "name": "ipython",
    "version": 3
   },
   "file_extension": ".py",
   "mimetype": "text/x-python",
   "name": "python",
   "nbconvert_exporter": "python",
   "pygments_lexer": "ipython3",
   "version": "3.9.12"
  }
 },
 "nbformat": 4,
 "nbformat_minor": 5
}
